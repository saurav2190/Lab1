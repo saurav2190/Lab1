{
  "nbformat": 4,
  "nbformat_minor": 0,
  "metadata": {
    "colab": {
      "name": "Welcome To Colaboratory",
      "provenance": [],
      "collapsed_sections": [],
      "toc_visible": true
    },
    "kernelspec": {
      "display_name": "Python 3",
      "name": "python3"
    }
  },
  "cells": [
    {
      "cell_type": "markdown",
      "metadata": {
        "id": "F8-kTYa5c-zx"
      },
      "source": [
        "Print Hello World\n",
        "\n"
      ]
    },
    {
      "cell_type": "code",
      "metadata": {
        "id": "wwc-WMMXdHsX",
        "outputId": "21bc4b6d-6044-4226-f948-68f37c637f39",
        "colab": {
          "base_uri": "https://localhost:8080/"
        }
      },
      "source": [
        "print(\"Hello\")"
      ],
      "execution_count": 2,
      "outputs": [
        {
          "output_type": "stream",
          "name": "stdout",
          "text": [
            "Hello\n"
          ]
        }
      ]
    },
    {
      "cell_type": "markdown",
      "metadata": {
        "id": "yVm7PtyodM0O"
      },
      "source": [
        "Print natural number"
      ]
    },
    {
      "cell_type": "code",
      "metadata": {
        "id": "kgratmD9dQEE",
        "outputId": "7a0b3be0-4002-4d6b-d420-843849fd522a",
        "colab": {
          "base_uri": "https://localhost:8080/"
        }
      },
      "source": [
        "print(\"Natural Number\")"
      ],
      "execution_count": 4,
      "outputs": [
        {
          "output_type": "stream",
          "name": "stdout",
          "text": [
            "Natural Number\n"
          ]
        }
      ]
    }
  ]
}