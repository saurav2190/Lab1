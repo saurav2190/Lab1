{
  "nbformat": 4,
  "nbformat_minor": 0,
  "metadata": {
    "colab": {
      "name": "Welcome To Colaboratory",
      "provenance": [],
      "collapsed_sections": [],
      "toc_visible": true
    },
    "kernelspec": {
      "display_name": "Python 3",
      "name": "python3"
    }
  },
  "cells": [
    {
      "cell_type": "markdown",
      "metadata": {
        "id": "dYrCkUibdyp6"
      },
      "source": [
        "Print first ten natural Number"
      ]
    },
    {
      "cell_type": "code",
      "metadata": {
        "id": "gXSiAu-Pd3lT",
        "outputId": "43b91d6a-5aa4-45e9-cb78-6cb44efb7d1d",
        "colab": {
          "base_uri": "https://localhost:8080/"
        }
      },
      "source": [
        "print(\"hello\")"
      ],
      "execution_count": 5,
      "outputs": [
        {
          "output_type": "stream",
          "name": "stdout",
          "text": [
            "hello\n"
          ]
        }
      ]
    },
    {
      "cell_type": "markdown",
      "metadata": {
        "id": "sxlXIfGGd7dz"
      },
      "source": [
        "print factorial"
      ]
    },
    {
      "cell_type": "code",
      "metadata": {
        "id": "sbFoNE5Od95F",
        "outputId": "0bcb6efc-9711-4209-8cd3-56e481ce561c",
        "colab": {
          "base_uri": "https://localhost:8080/"
        }
      },
      "source": [
        "print(\"factorial\")"
      ],
      "execution_count": 1,
      "outputs": [
        {
          "output_type": "stream",
          "name": "stdout",
          "text": [
            "factorial\n"
          ]
        }
      ]
    }
  ]
}